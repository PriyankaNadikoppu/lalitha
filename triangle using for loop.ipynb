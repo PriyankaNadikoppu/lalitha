{
 "cells": [
  {
   "cell_type": "code",
   "execution_count": null,
   "id": "8797abe2-71e0-4ec5-baa2-df07fcf10b3c",
   "metadata": {},
   "outputs": [],
   "source": [
    "n= int(input(\"enter the size\"))\n",
    "for i in range(1,n+1):\n",
    "    for j in range(n-i):\n",
    "        print(' ', end=' ')\n",
    "    for k in range(2*i-1):\n",
    "        print(\"*\", end=' ')\n",
    "    print()\n"
   ]
  }
 ],
 "metadata": {
  "kernelspec": {
   "display_name": "Python 3 (ipykernel)",
   "language": "python",
   "name": "python3"
  },
  "language_info": {
   "codemirror_mode": {
    "name": "ipython",
    "version": 3
   },
   "file_extension": ".py",
   "mimetype": "text/x-python",
   "name": "python",
   "nbconvert_exporter": "python",
   "pygments_lexer": "ipython3",
   "version": "3.12.7"
  }
 },
 "nbformat": 4,
 "nbformat_minor": 5
}
